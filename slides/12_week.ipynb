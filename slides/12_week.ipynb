{
 "cells": [
  {
   "cell_type": "code",
   "execution_count": 1,
   "metadata": {
    "collapsed": true,
    "slideshow": {
     "slide_type": "slide"
    }
   },
   "outputs": [],
   "source": [
    "import time\n",
    "import numpy as np\n",
    "import pandas as pd\n",
    "import matplotlib.pyplot as plt\n",
    "%matplotlib inline\n",
    "\n",
    "import seaborn as sns\n",
    "import sklearn\n"
   ]
  },
  {
   "cell_type": "code",
   "execution_count": 2,
   "metadata": {
    "slideshow": {
     "slide_type": "skip"
    }
   },
   "outputs": [
    {
     "name": "stderr",
     "output_type": "stream",
     "text": [
      "Using TensorFlow backend.\n"
     ]
    }
   ],
   "source": [
    "import keras"
   ]
  },
  {
   "cell_type": "code",
   "execution_count": 3,
   "metadata": {
    "collapsed": true,
    "slideshow": {
     "slide_type": "skip"
    }
   },
   "outputs": [],
   "source": [
    "from keras import layers, models"
   ]
  },
  {
   "cell_type": "markdown",
   "metadata": {
    "slideshow": {
     "slide_type": "slide"
    }
   },
   "source": [
    "## COMP 3132 -  Machine Learning with Python\n",
    "__Week 12 lecture__\n",
    "\n",
    "### [github.com/kamrik/ML2](https://github.com/kamrik/ML2)\n",
    "\n",
    "### [slido.com/COMP3132](http://slido.com/COMP3132)"
   ]
  },
  {
   "cell_type": "markdown",
   "metadata": {
    "slideshow": {
     "slide_type": "slide"
    }
   },
   "source": [
    "\n",
    "## Plan for today\n",
    " - Home assignment, join by April 3, submit by April 10\n",
    " - Using embeddings\n",
    " - Dropout & regularization"
   ]
  },
  {
   "cell_type": "markdown",
   "metadata": {
    "slideshow": {
     "slide_type": "slide"
    }
   },
   "source": [
    "## Home assignment\n",
    " - [Instructions](https://github.com/kamrik/ML2/blob/master/exercises/home_assignment3.md)\n",
    " - [Competition page](https://www.kaggle.com/c/career-con-2019)\n",
    " - [Robot video](https://youtu.be/I6z26LVu5y0?t=21)"
   ]
  },
  {
   "cell_type": "markdown",
   "metadata": {
    "slideshow": {
     "slide_type": "slide"
    }
   },
   "source": [
    "![robot](https://i.ytimg.com/vi/I6z26LVu5y0/maxresdefault.jpg)"
   ]
  },
  {
   "cell_type": "markdown",
   "metadata": {
    "slideshow": {
     "slide_type": "slide"
    }
   },
   "source": [
    "![accelerometer](http://mintakaconciencia.net/squares/midi/img/accelerometer-scan-small.jpg)"
   ]
  },
  {
   "cell_type": "markdown",
   "metadata": {
    "slideshow": {
     "slide_type": "slide"
    }
   },
   "source": [
    "![orientation](https://www.grc.nasa.gov/www/k-12/airplane/Images/rotations.gif)"
   ]
  },
  {
   "cell_type": "markdown",
   "metadata": {
    "slideshow": {
     "slide_type": "slide"
    }
   },
   "source": [
    "### Measurements\n",
    " - orientation_X\n",
    " - orientation_Y\n",
    " - orientation_Z\n",
    " - orientation_W\n",
    " - angular_velocity_X\n",
    " - angular_velocity_Y\n",
    " - angular_velocity_Z\n",
    " - linear_acceleration_X\n",
    " - linear_acceleration_Y\n",
    " - linear_acceleration_Z"
   ]
  },
  {
   "cell_type": "markdown",
   "metadata": {
    "slideshow": {
     "slide_type": "slide"
    }
   },
   "source": [
    "## Samples\n",
    "- Short intervals with 128 time points each"
   ]
  },
  {
   "cell_type": "markdown",
   "metadata": {
    "slideshow": {
     "slide_type": "slide"
    }
   },
   "source": [
    " - [EDA](https://github.com/kamrik/ML2/blob/master/exercises/robots_EDA.ipynb)\n",
    " - whiteboard - 3D data / tensors"
   ]
  },
  {
   "cell_type": "markdown",
   "metadata": {
    "slideshow": {
     "slide_type": "slide"
    }
   },
   "source": [
    "## Recurrent Neural Nets - RNNs"
   ]
  },
  {
   "cell_type": "code",
   "execution_count": 20,
   "metadata": {
    "collapsed": true,
    "slideshow": {
     "slide_type": "slide"
    }
   },
   "outputs": [],
   "source": [
    "from keras import layers, models\n",
    "\n",
    "n_timestamps = 128\n",
    "n_features = 10"
   ]
  },
  {
   "cell_type": "code",
   "execution_count": 22,
   "metadata": {
    "collapsed": true
   },
   "outputs": [],
   "source": [
    "model = Sequential()\n",
    "model.add(layers.GRU(32, input_shape=(n_timestamps, n_features)))\n",
    "model.add(layers.Dense(9, activation='softmax'))"
   ]
  },
  {
   "cell_type": "code",
   "execution_count": 23,
   "metadata": {
    "collapsed": true,
    "slideshow": {
     "slide_type": "slide"
    }
   },
   "outputs": [],
   "source": [
    "model = Sequential()\n",
    "model.add(layers.GRU(32, input_shape=(n_timestamps, n_features),\n",
    "                     return_sequences=True,\n",
    "                    ))\n",
    "model.add(layers.GRU(64))\n",
    "model.add(layers.Dense(9, activation='softmax'))"
   ]
  },
  {
   "cell_type": "markdown",
   "metadata": {
    "slideshow": {
     "slide_type": "slide"
    }
   },
   "source": [
    "![](https://s3-ap-south-1.amazonaws.com/av-blog-media/wp-content/uploads/2017/12/05231650/rnn-neuron.png)"
   ]
  },
  {
   "cell_type": "markdown",
   "metadata": {},
   "source": [
    "![](https://cdn-images-1.medium.com/max/800/1*yr0820z7YNRcDCWGisLC4g.png)"
   ]
  },
  {
   "cell_type": "markdown",
   "metadata": {
    "slideshow": {
     "slide_type": "slide"
    }
   },
   "source": [
    "## Activation and loss function selection guide\n",
    "![](https://cdn-images-1.medium.com/max/1000/1*IhP8BdoUpAbssltq0VBafg.png)"
   ]
  },
  {
   "cell_type": "markdown",
   "metadata": {
    "slideshow": {
     "slide_type": "slide"
    }
   },
   "source": [
    "## Word embeddings"
   ]
  },
  {
   "cell_type": "markdown",
   "metadata": {
    "slideshow": {
     "slide_type": "slide"
    }
   },
   "source": [
    "![](https://files.knime.com/sites/default/files/styles/inline_medium/public/word_embedding_-_word2vec_explained_-_figure1_0.png?itok=h_eMBl8O)"
   ]
  },
  {
   "cell_type": "markdown",
   "metadata": {
    "slideshow": {
     "slide_type": "slide"
    }
   },
   "source": [
    "![](https://s3-ap-south-1.amazonaws.com/av-blog-media/wp-content/uploads/2017/06/06062705/Word-Vectors.png)"
   ]
  },
  {
   "cell_type": "code",
   "execution_count": 55,
   "metadata": {
    "collapsed": true,
    "slideshow": {
     "slide_type": "slide"
    }
   },
   "outputs": [],
   "source": [
    "import sklearn.datasets\n",
    "data = sklearn.datasets.fetch_20newsgroups()"
   ]
  },
  {
   "cell_type": "code",
   "execution_count": 56,
   "metadata": {
    "slideshow": {
     "slide_type": "slide"
    }
   },
   "outputs": [
    {
     "name": "stdout",
     "output_type": "stream",
     "text": [
      "sci.space\n",
      "----------------------------------------\n",
      "From: jcm@head-cfa.harvard.edu (Jonathan McDowell)\n",
      "Subject: Re: Shuttle Launch Question\n",
      "Organization: Smithsonian Astrophysical Observatory, Cambridge, MA,  USA\n",
      "Distribution: sci\n",
      "Lines: 23\n",
      "\n",
      "From article <C5owCB.n3p@world.std.com>, by tombaker@world.std.com (Tom A Baker):\n",
      ">>In article <C5JLwx.4H9.1@cs.cmu.edu>, ETRAT@ttacs1.ttu.edu (Pack Rat) writes...\n",
      ">>>\"Clear caution & warning memory.  Verify no unexpected\n",
      ">>>errors. ...\".  I am wondering what an \"expected error\" might\n",
      ">>>be.  Sorry if this is a really dumb question, but\n",
      "> \n",
      "> Parity errors in memory or previously known conditions that were waivered.\n",
      ">    \"Yes that is an error, but we already knew about it\"\n",
      "> I'd be curious as to what the real meaning of the quote is.\n",
      "> \n",
      "> tom\n",
      "\n",
      "\n",
      "My understanding is that the 'expected errors' are basically\n",
      "known bugs in the warning system software - things are checked\n",
      "that don't have the right values in yet because they aren't\n",
      "set till after launch, and suchlike. Rather than fix the code\n",
      "and possibly introduce new bugs, they just tell the crew\n",
      "'ok, if you see a warning no. 213 before liftoff, ignore it'.\n",
      "\n",
      " - Jonathan\n",
      "\n",
      "\n",
      "\n"
     ]
    }
   ],
   "source": [
    "item = 4\n",
    "print(data.target_names[data.target[item]])\n",
    "print('-' * 40)\n",
    "print(data.data[item])"
   ]
  },
  {
   "cell_type": "code",
   "execution_count": 99,
   "metadata": {
    "collapsed": true
   },
   "outputs": [],
   "source": [
    "max_words = 20000\n",
    "embedding_dim=32\n",
    "phrase_len = 50\n"
   ]
  },
  {
   "cell_type": "code",
   "execution_count": 112,
   "metadata": {
    "collapsed": true
   },
   "outputs": [],
   "source": [
    "from keras.preprocessing.text import Tokenizer\n",
    "from keras.preprocessing.sequence import pad_sequences\n",
    "from keras.utils import to_categorical"
   ]
  },
  {
   "cell_type": "code",
   "execution_count": 101,
   "metadata": {},
   "outputs": [],
   "source": [
    "texts = data.data\n",
    "tokenizer = Tokenizer(num_words=max_words)\n",
    "tokenizer.fit_on_texts(texts)\n",
    "sequences = tokenizer.texts_to_sequences(texts)"
   ]
  },
  {
   "cell_type": "code",
   "execution_count": 102,
   "metadata": {
    "slideshow": {
     "slide_type": "slide"
    }
   },
   "outputs": [
    {
     "name": "stdout",
     "output_type": "stream",
     "text": [
      "Found 134142 unique tokens.\n"
     ]
    }
   ],
   "source": [
    "print('Found %s unique tokens.' % len(tokenizer.word_index))"
   ]
  },
  {
   "cell_type": "code",
   "execution_count": 103,
   "metadata": {},
   "outputs": [
    {
     "data": {
      "text/plain": [
       "[14, 735, 9166, 1111, 15, 2708, 12694, 29, 53, 1602]"
      ]
     },
     "execution_count": 103,
     "metadata": {},
     "output_type": "execute_result"
    }
   ],
   "source": [
    "sequences[item][:10]"
   ]
  },
  {
   "cell_type": "code",
   "execution_count": 104,
   "metadata": {},
   "outputs": [
    {
     "data": {
      "text/plain": [
       "14"
      ]
     },
     "execution_count": 104,
     "metadata": {},
     "output_type": "execute_result"
    }
   ],
   "source": [
    "tokenizer.word_index['from']"
   ]
  },
  {
   "cell_type": "code",
   "execution_count": 119,
   "metadata": {
    "collapsed": true
   },
   "outputs": [],
   "source": [
    "matrix = pad_sequences(sequences, maxlen=phrase_len, truncating='post').astype('float32')"
   ]
  },
  {
   "cell_type": "code",
   "execution_count": 107,
   "metadata": {},
   "outputs": [
    {
     "data": {
      "text/plain": [
       "(11314, 50)"
      ]
     },
     "execution_count": 107,
     "metadata": {},
     "output_type": "execute_result"
    }
   ],
   "source": [
    "matrix.shape"
   ]
  },
  {
   "cell_type": "code",
   "execution_count": 106,
   "metadata": {},
   "outputs": [
    {
     "data": {
      "text/plain": [
       "array([   14,   735,  9166,  1111,    15,  2708, 12694,    29,    53,\n",
       "        1602,  1112,   202,    34, 17016, 17017,  4309,  1569,   695,\n",
       "         220,   149,   802,    32,   447,    14,    61,   154,  1962,\n",
       "          31,    35,   154,  1962,    31,   903,     4,  3786,     7,\n",
       "          61,    24,   137,   591,    15, 12695,    15,  3712,  6359,\n",
       "          55,   741, 10462,  1817,   506])"
      ]
     },
     "execution_count": 106,
     "metadata": {},
     "output_type": "execute_result"
    }
   ],
   "source": [
    "matrix[item]"
   ]
  },
  {
   "cell_type": "code",
   "execution_count": 120,
   "metadata": {
    "collapsed": true
   },
   "outputs": [],
   "source": [
    "y = to_categorical(data.target).astype('float32')"
   ]
  },
  {
   "cell_type": "code",
   "execution_count": 126,
   "metadata": {
    "collapsed": true
   },
   "outputs": [],
   "source": [
    "from sklearn.model_selection import train_test_split"
   ]
  },
  {
   "cell_type": "code",
   "execution_count": 127,
   "metadata": {
    "collapsed": true
   },
   "outputs": [],
   "source": [
    "Xf, Xv, yf, yv = train_test_split(matrix, y, test_size=0.2)"
   ]
  },
  {
   "cell_type": "code",
   "execution_count": 179,
   "metadata": {
    "slideshow": {
     "slide_type": "slide"
    }
   },
   "outputs": [],
   "source": [
    "model = models.Sequential()\n",
    "model.add(layers.Embedding(max_words, embedding_dim, input_length=phrase_len))\n",
    "model.add(layers.Flatten())\n",
    "model.add(layers.Dense(64, activation='relu'))\n",
    "# model.add(layers.GRU(64))\n",
    "model.add(layers.Dense(20, activation='softmax'))\n"
   ]
  },
  {
   "cell_type": "code",
   "execution_count": 180,
   "metadata": {
    "slideshow": {
     "slide_type": "slide"
    }
   },
   "outputs": [],
   "source": [
    "model.compile(loss='categorical_crossentropy', optimizer='rmsprop', metrics=['acc'])"
   ]
  },
  {
   "cell_type": "code",
   "execution_count": 181,
   "metadata": {
    "slideshow": {
     "slide_type": "slide"
    }
   },
   "outputs": [
    {
     "name": "stdout",
     "output_type": "stream",
     "text": [
      "Train on 9051 samples, validate on 2263 samples\n",
      "Epoch 1/10\n",
      "9051/9051 [==============================] - 2s - loss: 2.7695 - acc: 0.2322 - val_loss: 2.3069 - val_acc: 0.3646\n",
      "Epoch 2/10\n",
      "9051/9051 [==============================] - 1s - loss: 1.5450 - acc: 0.6472 - val_loss: 1.3553 - val_acc: 0.6390\n",
      "Epoch 3/10\n",
      "9051/9051 [==============================] - 1s - loss: 0.6732 - acc: 0.8616 - val_loss: 0.9269 - val_acc: 0.7362\n",
      "Epoch 4/10\n",
      "9051/9051 [==============================] - 1s - loss: 0.2729 - acc: 0.9494 - val_loss: 0.7694 - val_acc: 0.7693\n",
      "Epoch 5/10\n",
      "9051/9051 [==============================] - 1s - loss: 0.0930 - acc: 0.9867 - val_loss: 0.7265 - val_acc: 0.7888\n",
      "Epoch 6/10\n",
      "9051/9051 [==============================] - 1s - loss: 0.0236 - acc: 0.9977 - val_loss: 0.7308 - val_acc: 0.8029\n",
      "Epoch 7/10\n",
      "9051/9051 [==============================] - 1s - loss: 0.0050 - acc: 0.9994 - val_loss: 0.8089 - val_acc: 0.8038\n",
      "Epoch 8/10\n",
      "9051/9051 [==============================] - 1s - loss: 0.0024 - acc: 0.9994 - val_loss: 0.8422 - val_acc: 0.8087\n",
      "Epoch 9/10\n",
      "9051/9051 [==============================] - 1s - loss: 0.0018 - acc: 0.9998 - val_loss: 0.9110 - val_acc: 0.8100\n",
      "Epoch 10/10\n",
      "9051/9051 [==============================] - 1s - loss: 0.0015 - acc: 0.9997 - val_loss: 0.9648 - val_acc: 0.8109\n"
     ]
    }
   ],
   "source": [
    "hist = model.fit(Xf, yf,\n",
    "                 validation_data=(Xv,yv),\n",
    "                 epochs=10)"
   ]
  },
  {
   "cell_type": "code",
   "execution_count": 182,
   "metadata": {},
   "outputs": [
    {
     "data": {
      "image/png": "[encoded data removed]",
      "text/plain": [
       "<matplotlib.figure.Figure at 0x165a0bea9e8>"
      ]
     },
     "metadata": {},
     "output_type": "display_data"
    }
   ],
   "source": [
    "plt.plot(hist.history['acc'], '-o', label='training')\n",
    "plt.plot(hist.history['val_acc'], '.', label='validation')\n",
    "_ = plt.legend()"
   ]
  },
  {
   "cell_type": "code",
   "execution_count": 183,
   "metadata": {
    "slideshow": {
     "slide_type": "slide"
    }
   },
   "outputs": [],
   "source": [
    "emb = models.Model(inputs=[model.input], outputs=[model.layers[0].output])"
   ]
  },
  {
   "cell_type": "code",
   "execution_count": 200,
   "metadata": {},
   "outputs": [],
   "source": [
    "dummy = np.zeros((3, phrase_len), dtype='float32')\n",
    "dummy[0,0] = tokenizer.word_index['car']\n",
    "dummy[1,0] = tokenizer.word_index['truck']\n",
    "dummy[2,0] = tokenizer.word_index['rocket']\n",
    "vecs = emb.predict(dummy)"
   ]
  },
  {
   "cell_type": "code",
   "execution_count": 201,
   "metadata": {},
   "outputs": [
    {
     "data": {
      "text/plain": [
       "(3, 50, 32)"
      ]
     },
     "execution_count": 201,
     "metadata": {},
     "output_type": "execute_result"
    }
   ],
   "source": [
    "vecs.shape"
   ]
  },
  {
   "cell_type": "code",
   "execution_count": 203,
   "metadata": {},
   "outputs": [
    {
     "name": "stdout",
     "output_type": "stream",
     "text": [
      "[ 0.50463176]\n",
      "[-0.12174845]\n",
      "[-0.02938677]\n"
     ]
    }
   ],
   "source": [
    "w1 = vecs[0,0,:]\n",
    "w2 = vecs[1,0,:]\n",
    "w3 = vecs[2,0,:]\n",
    "print(np.correlate(w1, w2))\n",
    "print(np.correlate(w1, w3))\n",
    "print(np.correlate(w2, w3))\n"
   ]
  },
  {
   "cell_type": "markdown",
   "metadata": {
    "slideshow": {
     "slide_type": "slide"
    }
   },
   "source": [
    "## N-grams\n",
    " * https://books.google.com/ngrams/"
   ]
  },
  {
   "cell_type": "markdown",
   "metadata": {
    "collapsed": true,
    "slideshow": {
     "slide_type": "slide"
    }
   },
   "source": [
    "https://nlp.stanford.edu/projects/glove/"
   ]
  }
 ],
 "metadata": {
  "celltoolbar": "Slideshow",
  "kernelspec": {
   "display_name": "Python 3",
   "language": "python",
   "name": "python3"
  },
  "language_info": {
   "codemirror_mode": {
    "name": "ipython",
    "version": 3
   },
   "file_extension": ".py",
   "mimetype": "text/x-python",
   "name": "python",
   "nbconvert_exporter": "python",
   "pygments_lexer": "ipython3",
   "version": "3.6.0"
  }
 },
 "nbformat": 4,
 "nbformat_minor": 2
}
